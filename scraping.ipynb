{
 "cells": [
  {
   "cell_type": "markdown",
   "id": "0a4f55c3",
   "metadata": {},
   "source": [
    "# scraping  list of all countries of the earth from wikipedia"
   ]
  },
  {
   "cell_type": "code",
   "execution_count": 3,
   "id": "2c41f36b",
   "metadata": {},
   "outputs": [],
   "source": [
    "import requests\n",
    "from bs4 import BeautifulSoup\n",
    "import pandas as pd"
   ]
  },
  {
   "cell_type": "code",
   "execution_count": 23,
   "id": "64d859d5",
   "metadata": {},
   "outputs": [
    {
     "name": "stdout",
     "output_type": "stream",
     "text": [
      "<Response [200]>\n",
      "                                        country_names   un_member_status  \\\n",
      "0         Afghanistan– Islamic Emirate of Afghanistan  A UN member state   \n",
      "1                        Albania– Republic of Albania  A UN member state   \n",
      "2    Algeria– People's Democratic Republic of Algeria  A UN member state   \n",
      "3                    Andorra– Principality of Andorra  A UN member state   \n",
      "4                          Angola– Republic of Angola  A UN member state   \n",
      "..                                                ...                ...   \n",
      "190       Venezuela– Bolivarian Republic of Venezuela  A UN member state   \n",
      "191            Vietnam– Socialist Republic of Vietnam  A UN member state   \n",
      "192                          Yemen– Republic of Yemen  A UN member state   \n",
      "193                        Zambia– Republic of Zambia  A UN member state   \n",
      "194                    Zimbabwe– Republic of Zimbabwe  A UN member state   \n",
      "\n",
      "    sovereignity_disputes  \n",
      "0                  A None  \n",
      "1                  A None  \n",
      "2                  A None  \n",
      "3                  A None  \n",
      "4                  A None  \n",
      "..                    ...  \n",
      "190                A None  \n",
      "191                A None  \n",
      "192                A None  \n",
      "193                A None  \n",
      "194                A None  \n",
      "\n",
      "[195 rows x 3 columns]\n"
     ]
    }
   ],
   "source": [
    "\n",
    "url = 'https://en.wikipedia.org/wiki/List_of_sovereign_states'\n",
    "\n",
    "headers = {\n",
    "    \"User-Agent\": \"Mozilla/5.0 (Windows NT 10.0; Win64; x64) AppleWebKit/537.36 (KHTML, like Gecko) Chrome/91.0.4472.124 Safari/537.36\"\n",
    "}\n",
    "response = requests.get(url, headers=headers)\n",
    "print(response)\n",
    "soup = BeautifulSoup(response.content, \"html.parser\")\n",
    "\n",
    "# print(soup)\n",
    "\n",
    "# Find the first table with class \"wikitable sortable\"\n",
    "\n",
    "table = soup.find(class_=\"sortable wikitable sticky-header\")\n",
    "country_names = []\n",
    "un_member_status = []\n",
    "sovereignity_disputes = []\n",
    "cln_counter = 1\n",
    "\n",
    "if table:\n",
    "    rows = table.find_all(\"tr\")\n",
    "    for row in rows:\n",
    "        cln_counter = 1\n",
    "        cols = row.find_all([\"td\"])\n",
    "        for col in cols:\n",
    "            \n",
    "            col_text = col.text.strip().replace(\"\\xa0\", \"\")\n",
    "            if cln_counter == 1:\n",
    "                country_names.append(col_text)\n",
    "            elif cln_counter == 2:\n",
    "                un_member_status.append(col_text)\n",
    "            elif cln_counter == 3:\n",
    "                sovereignity_disputes.append(col_text)\n",
    "\n",
    "            cln_counter +=1\n",
    "    \n",
    "    # Create DataFrame\n",
    "    df = pd.DataFrame({\n",
    "        'country_names': country_names,\n",
    "        'un_member_status': un_member_status,\n",
    "        'sovereignity_disputes': sovereignity_disputes\n",
    "    })\n",
    "    df.to_csv('outputs/countries_of_the_world.csv', index=False) \n",
    "    print(df)\n",
    "\n",
    "else:\n",
    "    print(\"Table not found\")\n"
   ]
  }
 ],
 "metadata": {
  "kernelspec": {
   "display_name": "Python 3",
   "language": "python",
   "name": "python3"
  },
  "language_info": {
   "codemirror_mode": {
    "name": "ipython",
    "version": 3
   },
   "file_extension": ".py",
   "mimetype": "text/x-python",
   "name": "python",
   "nbconvert_exporter": "python",
   "pygments_lexer": "ipython3",
   "version": "3.9.13"
  }
 },
 "nbformat": 4,
 "nbformat_minor": 5
}
